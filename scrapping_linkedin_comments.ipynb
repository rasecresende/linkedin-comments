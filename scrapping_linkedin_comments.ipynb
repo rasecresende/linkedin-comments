{
 "cells": [
  {
   "cell_type": "code",
   "execution_count": 1,
   "id": "44bf7820-eda6-425b-afd1-631952dd44ce",
   "metadata": {},
   "outputs": [
    {
     "name": "stdin",
     "output_type": "stream",
     "text": [
      "Enter the Company Linkedin URL:  https://www.linkedin.com/posts/parthdetroja_productmanagement-meta-activity-6952667703388119040-QCYN/?utm_source=linkedin_share&utm_medium=member_desktop_web\n"
     ]
    }
   ],
   "source": [
    "from selenium import webdriver\n",
    "from bs4 import BeautifulSoup as bs\n",
    "import time\n",
    "import pandas as pd\n",
    "import re as re\n",
    "\n",
    "page = input(\"Enter the Linkedin URL: \")\n",
    "name = page[33:-1]\n",
    "\n",
    "try:\n",
    "    f= open(\"credentials.txt\",\"r\")\n",
    "    contents = f.read()\n",
    "    username = contents.replace(\"=\",\",\").split(\",\")[1]\n",
    "    password = contents.replace(\"=\",\",\").split(\",\")[3]\n",
    "except:\n",
    "    f= open(\"credentials.txt\",\"w+\")\n",
    "    username = input('Enter your linkedin username: ')\n",
    "    password = input('Enter your linkedin password: ')\n",
    "    f.write(\"username={}, password={}\".format(username,password))\n",
    "    f.close()\n",
    "\n",
    "\n",
    "\n",
    "\n",
    "#access Webriver\n",
    "browser = webdriver.Chrome('chromedriver')\n",
    "\n",
    "#Open login page\n",
    "browser.get('https://www.linkedin.com/login?fromSignIn=true&trk=guest_homepage-basic_nav-header-signin')\n",
    "\n",
    "#Enter login info:\n",
    "elementID = browser.find_element('id', 'username')\n",
    "elementID.send_keys(username)\n",
    "\n",
    "elementID = browser.find_element('id', 'password')\n",
    "elementID.send_keys(password)\n",
    "elementID.submit()\n",
    "\n",
    "import time\n",
    "time.sleep(5)"
   ]
  },
  {
   "cell_type": "code",
   "execution_count": 2,
   "id": "00af335a-99dc-49e6-a114-1dffd04aa72c",
   "metadata": {},
   "outputs": [],
   "source": [
    "# #Go to webpage\n",
    "browser.get(page + 'posts/')\n",
    "time.sleep(5)"
   ]
  },
  {
   "cell_type": "code",
   "execution_count": 32,
   "id": "9117436f-575f-40aa-9ed2-7a4b38fc8844",
   "metadata": {},
   "outputs": [],
   "source": [
    "company_page = browser.page_source\n",
    "soup = bs(company_page.encode(\"utf-8\"), \"html\")\n",
    "results = soup.find('div', {'class':\"comments-comments-list--expanded\"}).get_text()"
   ]
  },
  {
   "cell_type": "code",
   "execution_count": 44,
   "id": "634503a0-6ce8-44db-838b-bda366ecffbf",
   "metadata": {},
   "outputs": [],
   "source": [
    "import re\n",
    "emails = re.findall(r\"[a-z0-9\\.\\-+_]+@[a-z0-9\\.\\-+_]+\\.[a-z]+\", results)\n",
    "df = pd.DataFrame(emails)\n",
    "df.columns = ['emails']\n",
    "df.to_csv('dima_linkedin_emails.csv')"
   ]
  },
  {
   "cell_type": "code",
   "execution_count": null,
   "id": "4fe9f0da-addd-465a-b54f-432c294893d1",
   "metadata": {},
   "outputs": [],
   "source": []
  }
 ],
 "metadata": {
  "kernelspec": {
   "display_name": "Python 3 (ipykernel)",
   "language": "python",
   "name": "python3"
  },
  "language_info": {
   "codemirror_mode": {
    "name": "ipython",
    "version": 3
   },
   "file_extension": ".py",
   "mimetype": "text/x-python",
   "name": "python",
   "nbconvert_exporter": "python",
   "pygments_lexer": "ipython3",
   "version": "3.8.12"
  }
 },
 "nbformat": 4,
 "nbformat_minor": 5
}
